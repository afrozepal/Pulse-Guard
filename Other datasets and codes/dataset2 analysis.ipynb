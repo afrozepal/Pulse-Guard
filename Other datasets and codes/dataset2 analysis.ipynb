{
  "cells": [
    {
      "cell_type": "code",
      "execution_count": 1,
      "metadata": {
        "id": "Yu_VogOJ22M8"
      },
      "outputs": [],
      "source": [
        "import numpy as np #numerical work\n",
        "import pandas as pd #dataframe\n",
        "import matplotlib.pyplot as plt #graphs and charts\n",
        "import scipy as sc #stats\n",
        "import sklearn as sk #modelling\n",
        "import seaborn as sns #graphing\n",
        "from sklearn.model_selection import train_test_split\n",
        "from sklearn.preprocessing import StandardScaler\n",
        "from sklearn.linear_model import LogisticRegression"
      ]
    },
    {
      "cell_type": "code",
      "execution_count": 2,
      "metadata": {
        "colab": {
          "base_uri": "https://localhost:8080/"
        },
        "id": "hAM2uU1_3932",
        "outputId": "a82c9331-652b-407e-e99b-f769b824d343"
      },
      "outputs": [
        {
          "name": "stdout",
          "output_type": "stream",
          "text": [
            "Collecting pyreadstat\n",
            "  Downloading pyreadstat-1.2.7-cp310-cp310-manylinux_2_17_x86_64.manylinux2014_x86_64.whl (2.8 MB)\n",
            "\u001b[2K     \u001b[90m━━━━━━━━━━━━━━━━━━━━━━━━━━━━━━━━━━━━━━━━\u001b[0m \u001b[32m2.8/2.8 MB\u001b[0m \u001b[31m8.0 MB/s\u001b[0m eta \u001b[36m0:00:00\u001b[0m\n",
            "\u001b[?25hRequirement already satisfied: pandas>=1.2.0 in /usr/local/lib/python3.10/dist-packages (from pyreadstat) (2.0.3)\n",
            "Requirement already satisfied: python-dateutil>=2.8.2 in /usr/local/lib/python3.10/dist-packages (from pandas>=1.2.0->pyreadstat) (2.8.2)\n",
            "Requirement already satisfied: pytz>=2020.1 in /usr/local/lib/python3.10/dist-packages (from pandas>=1.2.0->pyreadstat) (2023.4)\n",
            "Requirement already satisfied: tzdata>=2022.1 in /usr/local/lib/python3.10/dist-packages (from pandas>=1.2.0->pyreadstat) (2024.1)\n",
            "Requirement already satisfied: numpy>=1.21.0 in /usr/local/lib/python3.10/dist-packages (from pandas>=1.2.0->pyreadstat) (1.25.2)\n",
            "Requirement already satisfied: six>=1.5 in /usr/local/lib/python3.10/dist-packages (from python-dateutil>=2.8.2->pandas>=1.2.0->pyreadstat) (1.16.0)\n",
            "Installing collected packages: pyreadstat\n",
            "Successfully installed pyreadstat-1.2.7\n"
          ]
        }
      ],
      "source": [
        "!pip install pyreadstat"
      ]
    },
    {
      "cell_type": "code",
      "execution_count": 4,
      "metadata": {
        "colab": {
          "base_uri": "https://localhost:8080/"
        },
        "id": "whvL1t5ty2c2",
        "outputId": "adba8b8c-dcde-4c62-efe7-f6abcfe573a8"
      },
      "outputs": [
        {
          "name": "stdout",
          "output_type": "stream",
          "text": [
            "     Patient ID  Age     Sex  Cholesterol Blood Pressure  Heart Rate  \\\n",
            "0       BMW7812   67    Male          208         158/88          72   \n",
            "1       CZE1114   21    Male          389         165/93          98   \n",
            "2       BNI9906   21  Female          324         174/99          72   \n",
            "3       JLN3497   84    Male          383        163/100          73   \n",
            "4       GFO8847   66    Male          318          91/88          93   \n",
            "...         ...  ...     ...          ...            ...         ...   \n",
            "8758    MSV9918   60    Male          121          94/76          61   \n",
            "8759    QSV6764   28  Female          120        157/102          73   \n",
            "8760    XKA5925   47    Male          250         161/75         105   \n",
            "8761    EPE6801   36    Male          178         119/67          60   \n",
            "8762    ZWN9666   25  Female          356         138/67          75   \n",
            "\n",
            "      Diabetes  Family History  Smoking  Obesity  ...  \\\n",
            "0            0               0        1        0  ...   \n",
            "1            1               1        1        1  ...   \n",
            "2            1               0        0        0  ...   \n",
            "3            1               1        1        0  ...   \n",
            "4            1               1        1        1  ...   \n",
            "...        ...             ...      ...      ...  ...   \n",
            "8758         1               1        1        0  ...   \n",
            "8759         1               0        0        1  ...   \n",
            "8760         0               1        1        1  ...   \n",
            "8761         1               0        1        0  ...   \n",
            "8762         1               1        0        0  ...   \n",
            "\n",
            "      Sedentary Hours Per Day  Income        BMI  Triglycerides  \\\n",
            "0                    6.615001  261404  31.251233            286   \n",
            "1                    4.963459  285768  27.194973            235   \n",
            "2                    9.463426  235282  28.176571            587   \n",
            "3                    7.648981  125640  36.464704            378   \n",
            "4                    1.514821  160555  21.809144            231   \n",
            "...                       ...     ...        ...            ...   \n",
            "8758                10.806373  235420  19.655895             67   \n",
            "8759                 3.833038  217881  23.993866            617   \n",
            "8760                 2.375214   36998  35.406146            527   \n",
            "8761                 0.029104  209943  27.294020            114   \n",
            "8762                 9.005234  247338  32.914151            180   \n",
            "\n",
            "      Physical Activity Days Per Week  Sleep Hours Per Day         Country  \\\n",
            "0                                   0                    6       Argentina   \n",
            "1                                   1                    7          Canada   \n",
            "2                                   4                    4          France   \n",
            "3                                   3                    4          Canada   \n",
            "4                                   1                    5        Thailand   \n",
            "...                               ...                  ...             ...   \n",
            "8758                                7                    7        Thailand   \n",
            "8759                                4                    9          Canada   \n",
            "8760                                4                    4          Brazil   \n",
            "8761                                2                    8          Brazil   \n",
            "8762                                7                    4  United Kingdom   \n",
            "\n",
            "          Continent           Hemisphere  Heart Attack Risk  \n",
            "0     South America  Southern Hemisphere                  0  \n",
            "1     North America  Northern Hemisphere                  0  \n",
            "2            Europe  Northern Hemisphere                  0  \n",
            "3     North America  Northern Hemisphere                  0  \n",
            "4              Asia  Northern Hemisphere                  0  \n",
            "...             ...                  ...                ...  \n",
            "8758           Asia  Northern Hemisphere                  0  \n",
            "8759  North America  Northern Hemisphere                  0  \n",
            "8760  South America  Southern Hemisphere                  1  \n",
            "8761  South America  Southern Hemisphere                  0  \n",
            "8762         Europe  Northern Hemisphere                  1  \n",
            "\n",
            "[8763 rows x 26 columns]\n"
          ]
        }
      ],
      "source": [
        "df=pd.read_csv('dataset2.csv')\n",
        "print(df)"
      ]
    },
    {
      "cell_type": "code",
      "execution_count": 5,
      "metadata": {
        "colab": {
          "base_uri": "https://localhost:8080/"
        },
        "id": "hQqv4uiRzWV7",
        "outputId": "a270ad19-8c8a-4571-a4f3-3ee5e1744175"
      },
      "outputs": [
        {
          "name": "stdout",
          "output_type": "stream",
          "text": [
            "<class 'pandas.core.frame.DataFrame'>\n",
            "RangeIndex: 8763 entries, 0 to 8762\n",
            "Data columns (total 26 columns):\n",
            " #   Column                           Non-Null Count  Dtype  \n",
            "---  ------                           --------------  -----  \n",
            " 0   Patient ID                       8763 non-null   object \n",
            " 1   Age                              8763 non-null   int64  \n",
            " 2   Sex                              8763 non-null   object \n",
            " 3   Cholesterol                      8763 non-null   int64  \n",
            " 4   Blood Pressure                   8763 non-null   object \n",
            " 5   Heart Rate                       8763 non-null   int64  \n",
            " 6   Diabetes                         8763 non-null   int64  \n",
            " 7   Family History                   8763 non-null   int64  \n",
            " 8   Smoking                          8763 non-null   int64  \n",
            " 9   Obesity                          8763 non-null   int64  \n",
            " 10  Alcohol Consumption              8763 non-null   int64  \n",
            " 11  Exercise Hours Per Week          8763 non-null   float64\n",
            " 12  Diet                             8763 non-null   object \n",
            " 13  Previous Heart Problems          8763 non-null   int64  \n",
            " 14  Medication Use                   8763 non-null   int64  \n",
            " 15  Stress Level                     8763 non-null   int64  \n",
            " 16  Sedentary Hours Per Day          8763 non-null   float64\n",
            " 17  Income                           8763 non-null   int64  \n",
            " 18  BMI                              8763 non-null   float64\n",
            " 19  Triglycerides                    8763 non-null   int64  \n",
            " 20  Physical Activity Days Per Week  8763 non-null   int64  \n",
            " 21  Sleep Hours Per Day              8763 non-null   int64  \n",
            " 22  Country                          8763 non-null   object \n",
            " 23  Continent                        8763 non-null   object \n",
            " 24  Hemisphere                       8763 non-null   object \n",
            " 25  Heart Attack Risk                8763 non-null   int64  \n",
            "dtypes: float64(3), int64(16), object(7)\n",
            "memory usage: 1.7+ MB\n"
          ]
        }
      ],
      "source": [
        "df.info()"
      ]
    },
    {
      "cell_type": "code",
      "execution_count": 6,
      "metadata": {
        "colab": {
          "base_uri": "https://localhost:8080/",
          "height": 394
        },
        "id": "OWxhrtd51HTy",
        "outputId": "609a5309-2e72-4eb9-fb01-870fa15f7631"
      },
      "outputs": [
        {
          "data": {
            "application/vnd.google.colaboratory.intrinsic+json": {
              "type": "dataframe",
              "variable_name": "df"
            },
            "text/html": [
              "\n",
              "  <div id=\"df-44ccdd2b-659a-48c8-83b1-260d2957bd7b\" class=\"colab-df-container\">\n",
              "    <div>\n",
              "<style scoped>\n",
              "    .dataframe tbody tr th:only-of-type {\n",
              "        vertical-align: middle;\n",
              "    }\n",
              "\n",
              "    .dataframe tbody tr th {\n",
              "        vertical-align: top;\n",
              "    }\n",
              "\n",
              "    .dataframe thead th {\n",
              "        text-align: right;\n",
              "    }\n",
              "</style>\n",
              "<table border=\"1\" class=\"dataframe\">\n",
              "  <thead>\n",
              "    <tr style=\"text-align: right;\">\n",
              "      <th></th>\n",
              "      <th>Patient ID</th>\n",
              "      <th>Age</th>\n",
              "      <th>Sex</th>\n",
              "      <th>Cholesterol</th>\n",
              "      <th>Blood Pressure</th>\n",
              "      <th>Heart Rate</th>\n",
              "      <th>Diabetes</th>\n",
              "      <th>Family History</th>\n",
              "      <th>Smoking</th>\n",
              "      <th>Obesity</th>\n",
              "      <th>...</th>\n",
              "      <th>Sedentary Hours Per Day</th>\n",
              "      <th>Income</th>\n",
              "      <th>BMI</th>\n",
              "      <th>Triglycerides</th>\n",
              "      <th>Physical Activity Days Per Week</th>\n",
              "      <th>Sleep Hours Per Day</th>\n",
              "      <th>Country</th>\n",
              "      <th>Continent</th>\n",
              "      <th>Hemisphere</th>\n",
              "      <th>Heart Attack Risk</th>\n",
              "    </tr>\n",
              "  </thead>\n",
              "  <tbody>\n",
              "    <tr>\n",
              "      <th>0</th>\n",
              "      <td>BMW7812</td>\n",
              "      <td>67</td>\n",
              "      <td>Male</td>\n",
              "      <td>208</td>\n",
              "      <td>158/88</td>\n",
              "      <td>72</td>\n",
              "      <td>0</td>\n",
              "      <td>0</td>\n",
              "      <td>1</td>\n",
              "      <td>0</td>\n",
              "      <td>...</td>\n",
              "      <td>6.615001</td>\n",
              "      <td>261404</td>\n",
              "      <td>31.251233</td>\n",
              "      <td>286</td>\n",
              "      <td>0</td>\n",
              "      <td>6</td>\n",
              "      <td>Argentina</td>\n",
              "      <td>South America</td>\n",
              "      <td>Southern Hemisphere</td>\n",
              "      <td>0</td>\n",
              "    </tr>\n",
              "    <tr>\n",
              "      <th>1</th>\n",
              "      <td>CZE1114</td>\n",
              "      <td>21</td>\n",
              "      <td>Male</td>\n",
              "      <td>389</td>\n",
              "      <td>165/93</td>\n",
              "      <td>98</td>\n",
              "      <td>1</td>\n",
              "      <td>1</td>\n",
              "      <td>1</td>\n",
              "      <td>1</td>\n",
              "      <td>...</td>\n",
              "      <td>4.963459</td>\n",
              "      <td>285768</td>\n",
              "      <td>27.194973</td>\n",
              "      <td>235</td>\n",
              "      <td>1</td>\n",
              "      <td>7</td>\n",
              "      <td>Canada</td>\n",
              "      <td>North America</td>\n",
              "      <td>Northern Hemisphere</td>\n",
              "      <td>0</td>\n",
              "    </tr>\n",
              "    <tr>\n",
              "      <th>2</th>\n",
              "      <td>BNI9906</td>\n",
              "      <td>21</td>\n",
              "      <td>Female</td>\n",
              "      <td>324</td>\n",
              "      <td>174/99</td>\n",
              "      <td>72</td>\n",
              "      <td>1</td>\n",
              "      <td>0</td>\n",
              "      <td>0</td>\n",
              "      <td>0</td>\n",
              "      <td>...</td>\n",
              "      <td>9.463426</td>\n",
              "      <td>235282</td>\n",
              "      <td>28.176571</td>\n",
              "      <td>587</td>\n",
              "      <td>4</td>\n",
              "      <td>4</td>\n",
              "      <td>France</td>\n",
              "      <td>Europe</td>\n",
              "      <td>Northern Hemisphere</td>\n",
              "      <td>0</td>\n",
              "    </tr>\n",
              "    <tr>\n",
              "      <th>3</th>\n",
              "      <td>JLN3497</td>\n",
              "      <td>84</td>\n",
              "      <td>Male</td>\n",
              "      <td>383</td>\n",
              "      <td>163/100</td>\n",
              "      <td>73</td>\n",
              "      <td>1</td>\n",
              "      <td>1</td>\n",
              "      <td>1</td>\n",
              "      <td>0</td>\n",
              "      <td>...</td>\n",
              "      <td>7.648981</td>\n",
              "      <td>125640</td>\n",
              "      <td>36.464704</td>\n",
              "      <td>378</td>\n",
              "      <td>3</td>\n",
              "      <td>4</td>\n",
              "      <td>Canada</td>\n",
              "      <td>North America</td>\n",
              "      <td>Northern Hemisphere</td>\n",
              "      <td>0</td>\n",
              "    </tr>\n",
              "    <tr>\n",
              "      <th>4</th>\n",
              "      <td>GFO8847</td>\n",
              "      <td>66</td>\n",
              "      <td>Male</td>\n",
              "      <td>318</td>\n",
              "      <td>91/88</td>\n",
              "      <td>93</td>\n",
              "      <td>1</td>\n",
              "      <td>1</td>\n",
              "      <td>1</td>\n",
              "      <td>1</td>\n",
              "      <td>...</td>\n",
              "      <td>1.514821</td>\n",
              "      <td>160555</td>\n",
              "      <td>21.809144</td>\n",
              "      <td>231</td>\n",
              "      <td>1</td>\n",
              "      <td>5</td>\n",
              "      <td>Thailand</td>\n",
              "      <td>Asia</td>\n",
              "      <td>Northern Hemisphere</td>\n",
              "      <td>0</td>\n",
              "    </tr>\n",
              "  </tbody>\n",
              "</table>\n",
              "<p>5 rows × 26 columns</p>\n",
              "</div>\n",
              "    <div class=\"colab-df-buttons\">\n",
              "\n",
              "  <div class=\"colab-df-container\">\n",
              "    <button class=\"colab-df-convert\" onclick=\"convertToInteractive('df-44ccdd2b-659a-48c8-83b1-260d2957bd7b')\"\n",
              "            title=\"Convert this dataframe to an interactive table.\"\n",
              "            style=\"display:none;\">\n",
              "\n",
              "  <svg xmlns=\"http://www.w3.org/2000/svg\" height=\"24px\" viewBox=\"0 -960 960 960\">\n",
              "    <path d=\"M120-120v-720h720v720H120Zm60-500h600v-160H180v160Zm220 220h160v-160H400v160Zm0 220h160v-160H400v160ZM180-400h160v-160H180v160Zm440 0h160v-160H620v160ZM180-180h160v-160H180v160Zm440 0h160v-160H620v160Z\"/>\n",
              "  </svg>\n",
              "    </button>\n",
              "\n",
              "  <style>\n",
              "    .colab-df-container {\n",
              "      display:flex;\n",
              "      gap: 12px;\n",
              "    }\n",
              "\n",
              "    .colab-df-convert {\n",
              "      background-color: #E8F0FE;\n",
              "      border: none;\n",
              "      border-radius: 50%;\n",
              "      cursor: pointer;\n",
              "      display: none;\n",
              "      fill: #1967D2;\n",
              "      height: 32px;\n",
              "      padding: 0 0 0 0;\n",
              "      width: 32px;\n",
              "    }\n",
              "\n",
              "    .colab-df-convert:hover {\n",
              "      background-color: #E2EBFA;\n",
              "      box-shadow: 0px 1px 2px rgba(60, 64, 67, 0.3), 0px 1px 3px 1px rgba(60, 64, 67, 0.15);\n",
              "      fill: #174EA6;\n",
              "    }\n",
              "\n",
              "    .colab-df-buttons div {\n",
              "      margin-bottom: 4px;\n",
              "    }\n",
              "\n",
              "    [theme=dark] .colab-df-convert {\n",
              "      background-color: #3B4455;\n",
              "      fill: #D2E3FC;\n",
              "    }\n",
              "\n",
              "    [theme=dark] .colab-df-convert:hover {\n",
              "      background-color: #434B5C;\n",
              "      box-shadow: 0px 1px 3px 1px rgba(0, 0, 0, 0.15);\n",
              "      filter: drop-shadow(0px 1px 2px rgba(0, 0, 0, 0.3));\n",
              "      fill: #FFFFFF;\n",
              "    }\n",
              "  </style>\n",
              "\n",
              "    <script>\n",
              "      const buttonEl =\n",
              "        document.querySelector('#df-44ccdd2b-659a-48c8-83b1-260d2957bd7b button.colab-df-convert');\n",
              "      buttonEl.style.display =\n",
              "        google.colab.kernel.accessAllowed ? 'block' : 'none';\n",
              "\n",
              "      async function convertToInteractive(key) {\n",
              "        const element = document.querySelector('#df-44ccdd2b-659a-48c8-83b1-260d2957bd7b');\n",
              "        const dataTable =\n",
              "          await google.colab.kernel.invokeFunction('convertToInteractive',\n",
              "                                                    [key], {});\n",
              "        if (!dataTable) return;\n",
              "\n",
              "        const docLinkHtml = 'Like what you see? Visit the ' +\n",
              "          '<a target=\"_blank\" href=https://colab.research.google.com/notebooks/data_table.ipynb>data table notebook</a>'\n",
              "          + ' to learn more about interactive tables.';\n",
              "        element.innerHTML = '';\n",
              "        dataTable['output_type'] = 'display_data';\n",
              "        await google.colab.output.renderOutput(dataTable, element);\n",
              "        const docLink = document.createElement('div');\n",
              "        docLink.innerHTML = docLinkHtml;\n",
              "        element.appendChild(docLink);\n",
              "      }\n",
              "    </script>\n",
              "  </div>\n",
              "\n",
              "\n",
              "<div id=\"df-e950e563-da13-4316-bf6e-a3a422c452c9\">\n",
              "  <button class=\"colab-df-quickchart\" onclick=\"quickchart('df-e950e563-da13-4316-bf6e-a3a422c452c9')\"\n",
              "            title=\"Suggest charts\"\n",
              "            style=\"display:none;\">\n",
              "\n",
              "<svg xmlns=\"http://www.w3.org/2000/svg\" height=\"24px\"viewBox=\"0 0 24 24\"\n",
              "     width=\"24px\">\n",
              "    <g>\n",
              "        <path d=\"M19 3H5c-1.1 0-2 .9-2 2v14c0 1.1.9 2 2 2h14c1.1 0 2-.9 2-2V5c0-1.1-.9-2-2-2zM9 17H7v-7h2v7zm4 0h-2V7h2v10zm4 0h-2v-4h2v4z\"/>\n",
              "    </g>\n",
              "</svg>\n",
              "  </button>\n",
              "\n",
              "<style>\n",
              "  .colab-df-quickchart {\n",
              "      --bg-color: #E8F0FE;\n",
              "      --fill-color: #1967D2;\n",
              "      --hover-bg-color: #E2EBFA;\n",
              "      --hover-fill-color: #174EA6;\n",
              "      --disabled-fill-color: #AAA;\n",
              "      --disabled-bg-color: #DDD;\n",
              "  }\n",
              "\n",
              "  [theme=dark] .colab-df-quickchart {\n",
              "      --bg-color: #3B4455;\n",
              "      --fill-color: #D2E3FC;\n",
              "      --hover-bg-color: #434B5C;\n",
              "      --hover-fill-color: #FFFFFF;\n",
              "      --disabled-bg-color: #3B4455;\n",
              "      --disabled-fill-color: #666;\n",
              "  }\n",
              "\n",
              "  .colab-df-quickchart {\n",
              "    background-color: var(--bg-color);\n",
              "    border: none;\n",
              "    border-radius: 50%;\n",
              "    cursor: pointer;\n",
              "    display: none;\n",
              "    fill: var(--fill-color);\n",
              "    height: 32px;\n",
              "    padding: 0;\n",
              "    width: 32px;\n",
              "  }\n",
              "\n",
              "  .colab-df-quickchart:hover {\n",
              "    background-color: var(--hover-bg-color);\n",
              "    box-shadow: 0 1px 2px rgba(60, 64, 67, 0.3), 0 1px 3px 1px rgba(60, 64, 67, 0.15);\n",
              "    fill: var(--button-hover-fill-color);\n",
              "  }\n",
              "\n",
              "  .colab-df-quickchart-complete:disabled,\n",
              "  .colab-df-quickchart-complete:disabled:hover {\n",
              "    background-color: var(--disabled-bg-color);\n",
              "    fill: var(--disabled-fill-color);\n",
              "    box-shadow: none;\n",
              "  }\n",
              "\n",
              "  .colab-df-spinner {\n",
              "    border: 2px solid var(--fill-color);\n",
              "    border-color: transparent;\n",
              "    border-bottom-color: var(--fill-color);\n",
              "    animation:\n",
              "      spin 1s steps(1) infinite;\n",
              "  }\n",
              "\n",
              "  @keyframes spin {\n",
              "    0% {\n",
              "      border-color: transparent;\n",
              "      border-bottom-color: var(--fill-color);\n",
              "      border-left-color: var(--fill-color);\n",
              "    }\n",
              "    20% {\n",
              "      border-color: transparent;\n",
              "      border-left-color: var(--fill-color);\n",
              "      border-top-color: var(--fill-color);\n",
              "    }\n",
              "    30% {\n",
              "      border-color: transparent;\n",
              "      border-left-color: var(--fill-color);\n",
              "      border-top-color: var(--fill-color);\n",
              "      border-right-color: var(--fill-color);\n",
              "    }\n",
              "    40% {\n",
              "      border-color: transparent;\n",
              "      border-right-color: var(--fill-color);\n",
              "      border-top-color: var(--fill-color);\n",
              "    }\n",
              "    60% {\n",
              "      border-color: transparent;\n",
              "      border-right-color: var(--fill-color);\n",
              "    }\n",
              "    80% {\n",
              "      border-color: transparent;\n",
              "      border-right-color: var(--fill-color);\n",
              "      border-bottom-color: var(--fill-color);\n",
              "    }\n",
              "    90% {\n",
              "      border-color: transparent;\n",
              "      border-bottom-color: var(--fill-color);\n",
              "    }\n",
              "  }\n",
              "</style>\n",
              "\n",
              "  <script>\n",
              "    async function quickchart(key) {\n",
              "      const quickchartButtonEl =\n",
              "        document.querySelector('#' + key + ' button');\n",
              "      quickchartButtonEl.disabled = true;  // To prevent multiple clicks.\n",
              "      quickchartButtonEl.classList.add('colab-df-spinner');\n",
              "      try {\n",
              "        const charts = await google.colab.kernel.invokeFunction(\n",
              "            'suggestCharts', [key], {});\n",
              "      } catch (error) {\n",
              "        console.error('Error during call to suggestCharts:', error);\n",
              "      }\n",
              "      quickchartButtonEl.classList.remove('colab-df-spinner');\n",
              "      quickchartButtonEl.classList.add('colab-df-quickchart-complete');\n",
              "    }\n",
              "    (() => {\n",
              "      let quickchartButtonEl =\n",
              "        document.querySelector('#df-e950e563-da13-4316-bf6e-a3a422c452c9 button');\n",
              "      quickchartButtonEl.style.display =\n",
              "        google.colab.kernel.accessAllowed ? 'block' : 'none';\n",
              "    })();\n",
              "  </script>\n",
              "</div>\n",
              "\n",
              "    </div>\n",
              "  </div>\n"
            ],
            "text/plain": [
              "  Patient ID  Age     Sex  Cholesterol Blood Pressure  Heart Rate  Diabetes  \\\n",
              "0    BMW7812   67    Male          208         158/88          72         0   \n",
              "1    CZE1114   21    Male          389         165/93          98         1   \n",
              "2    BNI9906   21  Female          324         174/99          72         1   \n",
              "3    JLN3497   84    Male          383        163/100          73         1   \n",
              "4    GFO8847   66    Male          318          91/88          93         1   \n",
              "\n",
              "   Family History  Smoking  Obesity  ...  Sedentary Hours Per Day  Income  \\\n",
              "0               0        1        0  ...                 6.615001  261404   \n",
              "1               1        1        1  ...                 4.963459  285768   \n",
              "2               0        0        0  ...                 9.463426  235282   \n",
              "3               1        1        0  ...                 7.648981  125640   \n",
              "4               1        1        1  ...                 1.514821  160555   \n",
              "\n",
              "         BMI  Triglycerides  Physical Activity Days Per Week  \\\n",
              "0  31.251233            286                                0   \n",
              "1  27.194973            235                                1   \n",
              "2  28.176571            587                                4   \n",
              "3  36.464704            378                                3   \n",
              "4  21.809144            231                                1   \n",
              "\n",
              "   Sleep Hours Per Day    Country      Continent           Hemisphere  \\\n",
              "0                    6  Argentina  South America  Southern Hemisphere   \n",
              "1                    7     Canada  North America  Northern Hemisphere   \n",
              "2                    4     France         Europe  Northern Hemisphere   \n",
              "3                    4     Canada  North America  Northern Hemisphere   \n",
              "4                    5   Thailand           Asia  Northern Hemisphere   \n",
              "\n",
              "   Heart Attack Risk  \n",
              "0                  0  \n",
              "1                  0  \n",
              "2                  0  \n",
              "3                  0  \n",
              "4                  0  \n",
              "\n",
              "[5 rows x 26 columns]"
            ]
          },
          "execution_count": 6,
          "metadata": {},
          "output_type": "execute_result"
        }
      ],
      "source": [
        "#first five rows\n",
        "df.head()"
      ]
    },
    {
      "cell_type": "markdown",
      "metadata": {
        "id": "VZ-ztV-V6HI3"
      },
      "source": [
        "FILTERING + TRANSFORMATION"
      ]
    },
    {
      "cell_type": "code",
      "execution_count": 7,
      "metadata": {
        "colab": {
          "base_uri": "https://localhost:8080/"
        },
        "id": "wifQn4NK5Vzr",
        "outputId": "8a0e67ec-064c-472e-ac42-21ef02e32fea"
      },
      "outputs": [
        {
          "name": "stdout",
          "output_type": "stream",
          "text": [
            "      Age     Sex  Cholesterol Blood Pressure  Heart Rate  Diabetes  \\\n",
            "0      67    Male          208         158/88          72         0   \n",
            "1      21    Male          389         165/93          98         1   \n",
            "2      21  Female          324         174/99          72         1   \n",
            "3      84    Male          383        163/100          73         1   \n",
            "4      66    Male          318          91/88          93         1   \n",
            "...   ...     ...          ...            ...         ...       ...   \n",
            "8758   60    Male          121          94/76          61         1   \n",
            "8759   28  Female          120        157/102          73         1   \n",
            "8760   47    Male          250         161/75         105         0   \n",
            "8761   36    Male          178         119/67          60         1   \n",
            "8762   25  Female          356         138/67          75         1   \n",
            "\n",
            "      Family History  Smoking  Obesity  Alcohol Consumption  ...  \\\n",
            "0                  0        1        0                    0  ...   \n",
            "1                  1        1        1                    1  ...   \n",
            "2                  0        0        0                    0  ...   \n",
            "3                  1        1        0                    1  ...   \n",
            "4                  1        1        1                    0  ...   \n",
            "...              ...      ...      ...                  ...  ...   \n",
            "8758               1        1        0                    1  ...   \n",
            "8759               0        0        1                    0  ...   \n",
            "8760               1        1        1                    1  ...   \n",
            "8761               0        1        0                    0  ...   \n",
            "8762               1        0        0                    1  ...   \n",
            "\n",
            "      Sedentary Hours Per Day  Income        BMI  Triglycerides  \\\n",
            "0                    6.615001  261404  31.251233            286   \n",
            "1                    4.963459  285768  27.194973            235   \n",
            "2                    9.463426  235282  28.176571            587   \n",
            "3                    7.648981  125640  36.464704            378   \n",
            "4                    1.514821  160555  21.809144            231   \n",
            "...                       ...     ...        ...            ...   \n",
            "8758                10.806373  235420  19.655895             67   \n",
            "8759                 3.833038  217881  23.993866            617   \n",
            "8760                 2.375214   36998  35.406146            527   \n",
            "8761                 0.029104  209943  27.294020            114   \n",
            "8762                 9.005234  247338  32.914151            180   \n",
            "\n",
            "      Physical Activity Days Per Week  Sleep Hours Per Day         Country  \\\n",
            "0                                   0                    6       Argentina   \n",
            "1                                   1                    7          Canada   \n",
            "2                                   4                    4          France   \n",
            "3                                   3                    4          Canada   \n",
            "4                                   1                    5        Thailand   \n",
            "...                               ...                  ...             ...   \n",
            "8758                                7                    7        Thailand   \n",
            "8759                                4                    9          Canada   \n",
            "8760                                4                    4          Brazil   \n",
            "8761                                2                    8          Brazil   \n",
            "8762                                7                    4  United Kingdom   \n",
            "\n",
            "          Continent           Hemisphere  Heart Attack Risk  \n",
            "0     South America  Southern Hemisphere                  0  \n",
            "1     North America  Northern Hemisphere                  0  \n",
            "2            Europe  Northern Hemisphere                  0  \n",
            "3     North America  Northern Hemisphere                  0  \n",
            "4              Asia  Northern Hemisphere                  0  \n",
            "...             ...                  ...                ...  \n",
            "8758           Asia  Northern Hemisphere                  0  \n",
            "8759  North America  Northern Hemisphere                  0  \n",
            "8760  South America  Southern Hemisphere                  1  \n",
            "8761  South America  Southern Hemisphere                  0  \n",
            "8762         Europe  Northern Hemisphere                  1  \n",
            "\n",
            "[8763 rows x 25 columns]\n",
            "      Age     Sex  Cholesterol Blood Pressure  Heart Rate  Diabetes  \\\n",
            "0      67    Male          208         158/88          72         0   \n",
            "1      21    Male          389         165/93          98         1   \n",
            "2      21  Female          324         174/99          72         1   \n",
            "3      84    Male          383        163/100          73         1   \n",
            "4      66    Male          318          91/88          93         1   \n",
            "...   ...     ...          ...            ...         ...       ...   \n",
            "8758   60    Male          121          94/76          61         1   \n",
            "8759   28  Female          120        157/102          73         1   \n",
            "8760   47    Male          250         161/75         105         0   \n",
            "8761   36    Male          178         119/67          60         1   \n",
            "8762   25  Female          356         138/67          75         1   \n",
            "\n",
            "      Family History  Smoking  Obesity  Alcohol Consumption  ...  \\\n",
            "0                  0        1        0                    0  ...   \n",
            "1                  1        1        1                    1  ...   \n",
            "2                  0        0        0                    0  ...   \n",
            "3                  1        1        0                    1  ...   \n",
            "4                  1        1        1                    0  ...   \n",
            "...              ...      ...      ...                  ...  ...   \n",
            "8758               1        1        0                    1  ...   \n",
            "8759               0        0        1                    0  ...   \n",
            "8760               1        1        1                    1  ...   \n",
            "8761               0        1        0                    0  ...   \n",
            "8762               1        0        0                    1  ...   \n",
            "\n",
            "      Stress Level Sedentary Hours Per Day  Income        BMI  Triglycerides  \\\n",
            "0                9                6.615001  261404  31.251233            286   \n",
            "1                1                4.963459  285768  27.194973            235   \n",
            "2                9                9.463426  235282  28.176571            587   \n",
            "3                9                7.648981  125640  36.464704            378   \n",
            "4                6                1.514821  160555  21.809144            231   \n",
            "...            ...                     ...     ...        ...            ...   \n",
            "8758             8               10.806373  235420  19.655895             67   \n",
            "8759             8                3.833038  217881  23.993866            617   \n",
            "8760             5                2.375214   36998  35.406146            527   \n",
            "8761             5                0.029104  209943  27.294020            114   \n",
            "8762             8                9.005234  247338  32.914151            180   \n",
            "\n",
            "      Physical Activity Days Per Week  Sleep Hours Per Day      Continent  \\\n",
            "0                                   0                    6  South America   \n",
            "1                                   1                    7  North America   \n",
            "2                                   4                    4         Europe   \n",
            "3                                   3                    4  North America   \n",
            "4                                   1                    5           Asia   \n",
            "...                               ...                  ...            ...   \n",
            "8758                                7                    7           Asia   \n",
            "8759                                4                    9  North America   \n",
            "8760                                4                    4  South America   \n",
            "8761                                2                    8  South America   \n",
            "8762                                7                    4         Europe   \n",
            "\n",
            "               Hemisphere  Heart Attack Risk  \n",
            "0     Southern Hemisphere                  0  \n",
            "1     Northern Hemisphere                  0  \n",
            "2     Northern Hemisphere                  0  \n",
            "3     Northern Hemisphere                  0  \n",
            "4     Northern Hemisphere                  0  \n",
            "...                   ...                ...  \n",
            "8758  Northern Hemisphere                  0  \n",
            "8759  Northern Hemisphere                  0  \n",
            "8760  Southern Hemisphere                  1  \n",
            "8761  Southern Hemisphere                  0  \n",
            "8762  Northern Hemisphere                  1  \n",
            "\n",
            "[8763 rows x 24 columns]\n",
            "      Age     Sex  Cholesterol Blood Pressure  Heart Rate  Diabetes  \\\n",
            "0      67    Male          208         158/88          72         0   \n",
            "1      21    Male          389         165/93          98         1   \n",
            "2      21  Female          324         174/99          72         1   \n",
            "3      84    Male          383        163/100          73         1   \n",
            "4      66    Male          318          91/88          93         1   \n",
            "...   ...     ...          ...            ...         ...       ...   \n",
            "8758   60    Male          121          94/76          61         1   \n",
            "8759   28  Female          120        157/102          73         1   \n",
            "8760   47    Male          250         161/75         105         0   \n",
            "8761   36    Male          178         119/67          60         1   \n",
            "8762   25  Female          356         138/67          75         1   \n",
            "\n",
            "      Family History  Smoking  Obesity  Alcohol Consumption  ...  \\\n",
            "0                  0        1        0                    0  ...   \n",
            "1                  1        1        1                    1  ...   \n",
            "2                  0        0        0                    0  ...   \n",
            "3                  1        1        0                    1  ...   \n",
            "4                  1        1        1                    0  ...   \n",
            "...              ...      ...      ...                  ...  ...   \n",
            "8758               1        1        0                    1  ...   \n",
            "8759               0        0        1                    0  ...   \n",
            "8760               1        1        1                    1  ...   \n",
            "8761               0        1        0                    0  ...   \n",
            "8762               1        0        0                    1  ...   \n",
            "\n",
            "      Medication Use Stress Level  Sedentary Hours Per Day  Income        BMI  \\\n",
            "0                  0            9                 6.615001  261404  31.251233   \n",
            "1                  0            1                 4.963459  285768  27.194973   \n",
            "2                  1            9                 9.463426  235282  28.176571   \n",
            "3                  0            9                 7.648981  125640  36.464704   \n",
            "4                  0            6                 1.514821  160555  21.809144   \n",
            "...              ...          ...                      ...     ...        ...   \n",
            "8758               1            8                10.806373  235420  19.655895   \n",
            "8759               0            8                 3.833038  217881  23.993866   \n",
            "8760               0            5                 2.375214   36998  35.406146   \n",
            "8761               1            5                 0.029104  209943  27.294020   \n",
            "8762               0            8                 9.005234  247338  32.914151   \n",
            "\n",
            "      Triglycerides  Physical Activity Days Per Week  Sleep Hours Per Day  \\\n",
            "0               286                                0                    6   \n",
            "1               235                                1                    7   \n",
            "2               587                                4                    4   \n",
            "3               378                                3                    4   \n",
            "4               231                                1                    5   \n",
            "...             ...                              ...                  ...   \n",
            "8758             67                                7                    7   \n",
            "8759            617                                4                    9   \n",
            "8760            527                                4                    4   \n",
            "8761            114                                2                    8   \n",
            "8762            180                                7                    4   \n",
            "\n",
            "               Hemisphere  Heart Attack Risk  \n",
            "0     Southern Hemisphere                  0  \n",
            "1     Northern Hemisphere                  0  \n",
            "2     Northern Hemisphere                  0  \n",
            "3     Northern Hemisphere                  0  \n",
            "4     Northern Hemisphere                  0  \n",
            "...                   ...                ...  \n",
            "8758  Northern Hemisphere                  0  \n",
            "8759  Northern Hemisphere                  0  \n",
            "8760  Southern Hemisphere                  1  \n",
            "8761  Southern Hemisphere                  0  \n",
            "8762  Northern Hemisphere                  1  \n",
            "\n",
            "[8763 rows x 23 columns]\n",
            "      Age     Sex  Cholesterol Blood Pressure  Heart Rate  Diabetes  \\\n",
            "0      67    Male          208         158/88          72         0   \n",
            "1      21    Male          389         165/93          98         1   \n",
            "2      21  Female          324         174/99          72         1   \n",
            "3      84    Male          383        163/100          73         1   \n",
            "4      66    Male          318          91/88          93         1   \n",
            "...   ...     ...          ...            ...         ...       ...   \n",
            "8758   60    Male          121          94/76          61         1   \n",
            "8759   28  Female          120        157/102          73         1   \n",
            "8760   47    Male          250         161/75         105         0   \n",
            "8761   36    Male          178         119/67          60         1   \n",
            "8762   25  Female          356         138/67          75         1   \n",
            "\n",
            "      Family History  Smoking  Obesity  Alcohol Consumption  ...  \\\n",
            "0                  0        1        0                    0  ...   \n",
            "1                  1        1        1                    1  ...   \n",
            "2                  0        0        0                    0  ...   \n",
            "3                  1        1        0                    1  ...   \n",
            "4                  1        1        1                    0  ...   \n",
            "...              ...      ...      ...                  ...  ...   \n",
            "8758               1        1        0                    1  ...   \n",
            "8759               0        0        1                    0  ...   \n",
            "8760               1        1        1                    1  ...   \n",
            "8761               0        1        0                    0  ...   \n",
            "8762               1        0        0                    1  ...   \n",
            "\n",
            "      Previous Heart Problems Medication Use  Stress Level  \\\n",
            "0                           0              0             9   \n",
            "1                           1              0             1   \n",
            "2                           1              1             9   \n",
            "3                           1              0             9   \n",
            "4                           1              0             6   \n",
            "...                       ...            ...           ...   \n",
            "8758                        1              1             8   \n",
            "8759                        0              0             8   \n",
            "8760                        1              0             5   \n",
            "8761                        1              1             5   \n",
            "8762                        0              0             8   \n",
            "\n",
            "      Sedentary Hours Per Day  Income        BMI  Triglycerides  \\\n",
            "0                    6.615001  261404  31.251233            286   \n",
            "1                    4.963459  285768  27.194973            235   \n",
            "2                    9.463426  235282  28.176571            587   \n",
            "3                    7.648981  125640  36.464704            378   \n",
            "4                    1.514821  160555  21.809144            231   \n",
            "...                       ...     ...        ...            ...   \n",
            "8758                10.806373  235420  19.655895             67   \n",
            "8759                 3.833038  217881  23.993866            617   \n",
            "8760                 2.375214   36998  35.406146            527   \n",
            "8761                 0.029104  209943  27.294020            114   \n",
            "8762                 9.005234  247338  32.914151            180   \n",
            "\n",
            "      Physical Activity Days Per Week  Sleep Hours Per Day  Heart Attack Risk  \n",
            "0                                   0                    6                  0  \n",
            "1                                   1                    7                  0  \n",
            "2                                   4                    4                  0  \n",
            "3                                   3                    4                  0  \n",
            "4                                   1                    5                  0  \n",
            "...                               ...                  ...                ...  \n",
            "8758                                7                    7                  0  \n",
            "8759                                4                    9                  0  \n",
            "8760                                4                    4                  1  \n",
            "8761                                2                    8                  0  \n",
            "8762                                7                    4                  1  \n",
            "\n",
            "[8763 rows x 22 columns]\n"
          ]
        }
      ],
      "source": [
        "df.drop('Patient ID', axis=1, inplace=True)\n",
        "print(df)\n",
        "\n",
        "df.drop('Country', axis=1, inplace=True)\n",
        "print(df)\n",
        "\n",
        "df.drop('Continent', axis=1, inplace=True)\n",
        "print(df)\n",
        "\n",
        "df.drop('Hemisphere', axis=1, inplace=True)\n",
        "print(df)"
      ]
    },
    {
      "cell_type": "code",
      "execution_count": 8,
      "metadata": {
        "id": "jfFAFZkaChZS"
      },
      "outputs": [],
      "source": [
        "# Split \"Blood Pressure\" into two separate columns\n",
        "df[['Systolic_BP', 'Diastolic_BP']] = df['Blood Pressure'].str.split('/', expand=True)\n",
        "\n",
        "# Convert the new columns to numeric\n",
        "df['Systolic_BP'] = pd.to_numeric(df['Systolic_BP'])\n",
        "df['Diastolic_BP'] = pd.to_numeric(df['Diastolic_BP'])\n",
        "\n",
        "# Drop the original \"Blood Pressure\" column\n",
        "df.drop(columns=['Blood Pressure'], inplace=True)\n",
        "\n",
        "# Encode \"Sex\" variable\n",
        "gender_mapping = {\"Male\": 0, \"Female\": 1}\n",
        "df[\"Sex\"] = df[\"Sex\"].map(gender_mapping)\n",
        "\n",
        "# Encode \"Diet\" variable\n",
        "diet_mapping = {\"Healthy\": 0, \"Average\": 1, \"Unhealthy\": 2}\n",
        "df[\"Diet\"] = df[\"Diet\"].map(diet_mapping)\n",
        "\n",
        "# # Calculate correlation coefficients\n",
        "# correlation = df.corr()[\"Heart Attack Risk\"]\n",
        "\n",
        "# # Display correlation coefficients\n",
        "# print(correlation)\n"
      ]
    },
    {
      "cell_type": "code",
      "execution_count": 9,
      "metadata": {
        "colab": {
          "base_uri": "https://localhost:8080/"
        },
        "id": "PqeelljFFIJD",
        "outputId": "a068c2b6-ee79-4192-d27f-b0cb6b72b419"
      },
      "outputs": [
        {
          "name": "stdout",
          "output_type": "stream",
          "text": [
            "      Age  Sex  Cholesterol  Heart Rate  Diabetes  Family History  Smoking  \\\n",
            "0      67    0          208          72         0               0        1   \n",
            "1      21    0          389          98         1               1        1   \n",
            "2      21    1          324          72         1               0        0   \n",
            "3      84    0          383          73         1               1        1   \n",
            "4      66    0          318          93         1               1        1   \n",
            "...   ...  ...          ...         ...       ...             ...      ...   \n",
            "8758   60    0          121          61         1               1        1   \n",
            "8759   28    1          120          73         1               0        0   \n",
            "8760   47    0          250         105         0               1        1   \n",
            "8761   36    0          178          60         1               0        1   \n",
            "8762   25    1          356          75         1               1        0   \n",
            "\n",
            "      Obesity  Alcohol Consumption  Exercise Hours Per Week  ...  \\\n",
            "0           0                    0                 4.168189  ...   \n",
            "1           1                    1                 1.813242  ...   \n",
            "2           0                    0                 2.078353  ...   \n",
            "3           0                    1                 9.828130  ...   \n",
            "4           1                    0                 5.804299  ...   \n",
            "...       ...                  ...                      ...  ...   \n",
            "8758        0                    1                 7.917342  ...   \n",
            "8759        1                    0                16.558426  ...   \n",
            "8760        1                    1                 3.148438  ...   \n",
            "8761        0                    0                 3.789950  ...   \n",
            "8762        0                    1                18.081748  ...   \n",
            "\n",
            "      Stress Level  Sedentary Hours Per Day  Income        BMI  Triglycerides  \\\n",
            "0                9                 6.615001  261404  31.251233            286   \n",
            "1                1                 4.963459  285768  27.194973            235   \n",
            "2                9                 9.463426  235282  28.176571            587   \n",
            "3                9                 7.648981  125640  36.464704            378   \n",
            "4                6                 1.514821  160555  21.809144            231   \n",
            "...            ...                      ...     ...        ...            ...   \n",
            "8758             8                10.806373  235420  19.655895             67   \n",
            "8759             8                 3.833038  217881  23.993866            617   \n",
            "8760             5                 2.375214   36998  35.406146            527   \n",
            "8761             5                 0.029104  209943  27.294020            114   \n",
            "8762             8                 9.005234  247338  32.914151            180   \n",
            "\n",
            "      Physical Activity Days Per Week  Sleep Hours Per Day  Heart Attack Risk  \\\n",
            "0                                   0                    6                  0   \n",
            "1                                   1                    7                  0   \n",
            "2                                   4                    4                  0   \n",
            "3                                   3                    4                  0   \n",
            "4                                   1                    5                  0   \n",
            "...                               ...                  ...                ...   \n",
            "8758                                7                    7                  0   \n",
            "8759                                4                    9                  0   \n",
            "8760                                4                    4                  1   \n",
            "8761                                2                    8                  0   \n",
            "8762                                7                    4                  1   \n",
            "\n",
            "      Systolic_BP  Diastolic_BP  \n",
            "0             158            88  \n",
            "1             165            93  \n",
            "2             174            99  \n",
            "3             163           100  \n",
            "4              91            88  \n",
            "...           ...           ...  \n",
            "8758           94            76  \n",
            "8759          157           102  \n",
            "8760          161            75  \n",
            "8761          119            67  \n",
            "8762          138            67  \n",
            "\n",
            "[8763 rows x 23 columns]\n"
          ]
        }
      ],
      "source": [
        "print(df)"
      ]
    },
    {
      "cell_type": "code",
      "execution_count": 10,
      "metadata": {
        "colab": {
          "base_uri": "https://localhost:8080/"
        },
        "id": "Ol29VWZsHs7D",
        "outputId": "8bc9059f-0470-4eff-ef30-28dab5b02303"
      },
      "outputs": [
        {
          "data": {
            "text/plain": [
              "Age                                0\n",
              "Sex                                0\n",
              "Cholesterol                        0\n",
              "Heart Rate                         0\n",
              "Diabetes                           0\n",
              "Family History                     0\n",
              "Smoking                            0\n",
              "Obesity                            0\n",
              "Alcohol Consumption                0\n",
              "Exercise Hours Per Week            0\n",
              "Diet                               0\n",
              "Previous Heart Problems            0\n",
              "Medication Use                     0\n",
              "Stress Level                       0\n",
              "Sedentary Hours Per Day            0\n",
              "Income                             0\n",
              "BMI                                0\n",
              "Triglycerides                      0\n",
              "Physical Activity Days Per Week    0\n",
              "Sleep Hours Per Day                0\n",
              "Heart Attack Risk                  0\n",
              "Systolic_BP                        0\n",
              "Diastolic_BP                       0\n",
              "dtype: int64"
            ]
          },
          "execution_count": 10,
          "metadata": {},
          "output_type": "execute_result"
        }
      ],
      "source": [
        "df.isnull().sum()"
      ]
    },
    {
      "cell_type": "code",
      "execution_count": 11,
      "metadata": {
        "colab": {
          "base_uri": "https://localhost:8080/"
        },
        "id": "IXQRFX3rIYgm",
        "outputId": "690fe740-3388-407f-a9be-d10883b172e3"
      },
      "outputs": [
        {
          "data": {
            "text/plain": [
              "0"
            ]
          },
          "execution_count": 11,
          "metadata": {},
          "output_type": "execute_result"
        }
      ],
      "source": [
        "df.duplicated().sum()"
      ]
    },
    {
      "cell_type": "code",
      "execution_count": 12,
      "metadata": {
        "colab": {
          "base_uri": "https://localhost:8080/"
        },
        "id": "QhFPt_5dKKJ0",
        "outputId": "6a854da2-1510-45a8-8609-a1bd73eba98c"
      },
      "outputs": [
        {
          "name": "stdout",
          "output_type": "stream",
          "text": [
            "<class 'pandas.core.frame.DataFrame'>\n",
            "RangeIndex: 8763 entries, 0 to 8762\n",
            "Data columns (total 23 columns):\n",
            " #   Column                           Non-Null Count  Dtype  \n",
            "---  ------                           --------------  -----  \n",
            " 0   Age                              8763 non-null   int64  \n",
            " 1   Sex                              8763 non-null   int64  \n",
            " 2   Cholesterol                      8763 non-null   int64  \n",
            " 3   Heart Rate                       8763 non-null   int64  \n",
            " 4   Diabetes                         8763 non-null   int64  \n",
            " 5   Family History                   8763 non-null   int64  \n",
            " 6   Smoking                          8763 non-null   int64  \n",
            " 7   Obesity                          8763 non-null   int64  \n",
            " 8   Alcohol Consumption              8763 non-null   int64  \n",
            " 9   Exercise Hours Per Week          8763 non-null   float64\n",
            " 10  Diet                             8763 non-null   int64  \n",
            " 11  Previous Heart Problems          8763 non-null   int64  \n",
            " 12  Medication Use                   8763 non-null   int64  \n",
            " 13  Stress Level                     8763 non-null   int64  \n",
            " 14  Sedentary Hours Per Day          8763 non-null   float64\n",
            " 15  Income                           8763 non-null   int64  \n",
            " 16  BMI                              8763 non-null   float64\n",
            " 17  Triglycerides                    8763 non-null   int64  \n",
            " 18  Physical Activity Days Per Week  8763 non-null   int64  \n",
            " 19  Sleep Hours Per Day              8763 non-null   int64  \n",
            " 20  Heart Attack Risk                8763 non-null   int64  \n",
            " 21  Systolic_BP                      8763 non-null   int64  \n",
            " 22  Diastolic_BP                     8763 non-null   int64  \n",
            "dtypes: float64(3), int64(20)\n",
            "memory usage: 1.5 MB\n"
          ]
        }
      ],
      "source": [
        "df.info()"
      ]
    },
    {
      "cell_type": "markdown",
      "metadata": {
        "id": "QsS7NtNWKLFT"
      },
      "source": [
        "EXPLORING"
      ]
    },
    {
      "cell_type": "markdown",
      "metadata": {
        "id": "KOU6jg3qDvIA"
      },
      "source": [
        "Target Variable"
      ]
    },
    {
      "cell_type": "code",
      "execution_count": 13,
      "metadata": {
        "colab": {
          "base_uri": "https://localhost:8080/",
          "height": 444
        },
        "id": "blWxLUbNLDrA",
        "outputId": "8005b36c-90c2-4200-ae83-6715cb285329"
      },
      "outputs": [
        {
          "data": {
            "image/png": "[encoded data removed]",
            "text/plain": [
              "<Figure size 640x480 with 1 Axes>"
            ]
          },
          "metadata": {},
          "output_type": "display_data"
        }
      ],
      "source": [
        "df['Heart Attack Risk'].value_counts(normalize=True).plot(kind='bar')\n",
        "plt.show()\n",
        "#checking for a significant imbalance in the target variable where presence of heart attack risk (1: Yes, 0: No)"
      ]
    },
    {
      "cell_type": "code",
      "execution_count": 14,
      "metadata": {
        "colab": {
          "base_uri": "https://localhost:8080/",
          "height": 245
        },
        "id": "Zkf-eTLbELzs",
        "outputId": "52a147d7-22a3-48a4-d7cc-e143d0fcce8a"
      },
      "outputs": [
        {
          "data": {
            "application/vnd.google.colaboratory.intrinsic+json": {
              "type": "dataframe"
            },
            "text/html": [
              "\n",
              "  <div id=\"df-aa8a0804-5b14-4a8d-9ba9-8f137cf79159\" class=\"colab-df-container\">\n",
              "    <div>\n",
              "<style scoped>\n",
              "    .dataframe tbody tr th:only-of-type {\n",
              "        vertical-align: middle;\n",
              "    }\n",
              "\n",
              "    .dataframe tbody tr th {\n",
              "        vertical-align: top;\n",
              "    }\n",
              "\n",
              "    .dataframe thead th {\n",
              "        text-align: right;\n",
              "    }\n",
              "</style>\n",
              "<table border=\"1\" class=\"dataframe\">\n",
              "  <thead>\n",
              "    <tr style=\"text-align: right;\">\n",
              "      <th></th>\n",
              "      <th>Age</th>\n",
              "      <th>Cholesterol</th>\n",
              "      <th>Heart Rate</th>\n",
              "      <th>Diabetes</th>\n",
              "      <th>Family History</th>\n",
              "      <th>Smoking</th>\n",
              "      <th>Obesity</th>\n",
              "      <th>Alcohol Consumption</th>\n",
              "      <th>Exercise Hours Per Week</th>\n",
              "      <th>Diet</th>\n",
              "      <th>...</th>\n",
              "      <th>Stress Level</th>\n",
              "      <th>Sedentary Hours Per Day</th>\n",
              "      <th>Income</th>\n",
              "      <th>BMI</th>\n",
              "      <th>Triglycerides</th>\n",
              "      <th>Physical Activity Days Per Week</th>\n",
              "      <th>Sleep Hours Per Day</th>\n",
              "      <th>Heart Attack Risk</th>\n",
              "      <th>Systolic_BP</th>\n",
              "      <th>Diastolic_BP</th>\n",
              "    </tr>\n",
              "    <tr>\n",
              "      <th>Sex</th>\n",
              "      <th></th>\n",
              "      <th></th>\n",
              "      <th></th>\n",
              "      <th></th>\n",
              "      <th></th>\n",
              "      <th></th>\n",
              "      <th></th>\n",
              "      <th></th>\n",
              "      <th></th>\n",
              "      <th></th>\n",
              "      <th></th>\n",
              "      <th></th>\n",
              "      <th></th>\n",
              "      <th></th>\n",
              "      <th></th>\n",
              "      <th></th>\n",
              "      <th></th>\n",
              "      <th></th>\n",
              "      <th></th>\n",
              "      <th></th>\n",
              "      <th></th>\n",
              "    </tr>\n",
              "  </thead>\n",
              "  <tbody>\n",
              "    <tr>\n",
              "      <th>0</th>\n",
              "      <td>53.988873</td>\n",
              "      <td>260.282769</td>\n",
              "      <td>74.873834</td>\n",
              "      <td>0.653412</td>\n",
              "      <td>0.493700</td>\n",
              "      <td>1.000000</td>\n",
              "      <td>0.502209</td>\n",
              "      <td>0.598756</td>\n",
              "      <td>9.987705</td>\n",
              "      <td>0.989036</td>\n",
              "      <td>...</td>\n",
              "      <td>5.428571</td>\n",
              "      <td>6.000528</td>\n",
              "      <td>158404.357552</td>\n",
              "      <td>28.878872</td>\n",
              "      <td>418.109311</td>\n",
              "      <td>3.478154</td>\n",
              "      <td>7.016528</td>\n",
              "      <td>0.359188</td>\n",
              "      <td>134.970872</td>\n",
              "      <td>85.134348</td>\n",
              "    </tr>\n",
              "    <tr>\n",
              "      <th>1</th>\n",
              "      <td>53.060709</td>\n",
              "      <td>258.942685</td>\n",
              "      <td>75.362368</td>\n",
              "      <td>0.649698</td>\n",
              "      <td>0.491327</td>\n",
              "      <td>0.659125</td>\n",
              "      <td>0.499623</td>\n",
              "      <td>0.596531</td>\n",
              "      <td>10.075528</td>\n",
              "      <td>0.999246</td>\n",
              "      <td>...</td>\n",
              "      <td>5.564480</td>\n",
              "      <td>5.977934</td>\n",
              "      <td>157937.871041</td>\n",
              "      <td>28.920420</td>\n",
              "      <td>416.680995</td>\n",
              "      <td>3.516214</td>\n",
              "      <td>7.039593</td>\n",
              "      <td>0.355958</td>\n",
              "      <td>135.317119</td>\n",
              "      <td>85.206259</td>\n",
              "    </tr>\n",
              "  </tbody>\n",
              "</table>\n",
              "<p>2 rows × 22 columns</p>\n",
              "</div>\n",
              "    <div class=\"colab-df-buttons\">\n",
              "\n",
              "  <div class=\"colab-df-container\">\n",
              "    <button class=\"colab-df-convert\" onclick=\"convertToInteractive('df-aa8a0804-5b14-4a8d-9ba9-8f137cf79159')\"\n",
              "            title=\"Convert this dataframe to an interactive table.\"\n",
              "            style=\"display:none;\">\n",
              "\n",
              "  <svg xmlns=\"http://www.w3.org/2000/svg\" height=\"24px\" viewBox=\"0 -960 960 960\">\n",
              "    <path d=\"M120-120v-720h720v720H120Zm60-500h600v-160H180v160Zm220 220h160v-160H400v160Zm0 220h160v-160H400v160ZM180-400h160v-160H180v160Zm440 0h160v-160H620v160ZM180-180h160v-160H180v160Zm440 0h160v-160H620v160Z\"/>\n",
              "  </svg>\n",
              "    </button>\n",
              "\n",
              "  <style>\n",
              "    .colab-df-container {\n",
              "      display:flex;\n",
              "      gap: 12px;\n",
              "    }\n",
              "\n",
              "    .colab-df-convert {\n",
              "      background-color: #E8F0FE;\n",
              "      border: none;\n",
              "      border-radius: 50%;\n",
              "      cursor: pointer;\n",
              "      display: none;\n",
              "      fill: #1967D2;\n",
              "      height: 32px;\n",
              "      padding: 0 0 0 0;\n",
              "      width: 32px;\n",
              "    }\n",
              "\n",
              "    .colab-df-convert:hover {\n",
              "      background-color: #E2EBFA;\n",
              "      box-shadow: 0px 1px 2px rgba(60, 64, 67, 0.3), 0px 1px 3px 1px rgba(60, 64, 67, 0.15);\n",
              "      fill: #174EA6;\n",
              "    }\n",
              "\n",
              "    .colab-df-buttons div {\n",
              "      margin-bottom: 4px;\n",
              "    }\n",
              "\n",
              "    [theme=dark] .colab-df-convert {\n",
              "      background-color: #3B4455;\n",
              "      fill: #D2E3FC;\n",
              "    }\n",
              "\n",
              "    [theme=dark] .colab-df-convert:hover {\n",
              "      background-color: #434B5C;\n",
              "      box-shadow: 0px 1px 3px 1px rgba(0, 0, 0, 0.15);\n",
              "      filter: drop-shadow(0px 1px 2px rgba(0, 0, 0, 0.3));\n",
              "      fill: #FFFFFF;\n",
              "    }\n",
              "  </style>\n",
              "\n",
              "    <script>\n",
              "      const buttonEl =\n",
              "        document.querySelector('#df-aa8a0804-5b14-4a8d-9ba9-8f137cf79159 button.colab-df-convert');\n",
              "      buttonEl.style.display =\n",
              "        google.colab.kernel.accessAllowed ? 'block' : 'none';\n",
              "\n",
              "      async function convertToInteractive(key) {\n",
              "        const element = document.querySelector('#df-aa8a0804-5b14-4a8d-9ba9-8f137cf79159');\n",
              "        const dataTable =\n",
              "          await google.colab.kernel.invokeFunction('convertToInteractive',\n",
              "                                                    [key], {});\n",
              "        if (!dataTable) return;\n",
              "\n",
              "        const docLinkHtml = 'Like what you see? Visit the ' +\n",
              "          '<a target=\"_blank\" href=https://colab.research.google.com/notebooks/data_table.ipynb>data table notebook</a>'\n",
              "          + ' to learn more about interactive tables.';\n",
              "        element.innerHTML = '';\n",
              "        dataTable['output_type'] = 'display_data';\n",
              "        await google.colab.output.renderOutput(dataTable, element);\n",
              "        const docLink = document.createElement('div');\n",
              "        docLink.innerHTML = docLinkHtml;\n",
              "        element.appendChild(docLink);\n",
              "      }\n",
              "    </script>\n",
              "  </div>\n",
              "\n",
              "\n",
              "<div id=\"df-fc7e9630-25f4-4b4e-803c-873f30f6d692\">\n",
              "  <button class=\"colab-df-quickchart\" onclick=\"quickchart('df-fc7e9630-25f4-4b4e-803c-873f30f6d692')\"\n",
              "            title=\"Suggest charts\"\n",
              "            style=\"display:none;\">\n",
              "\n",
              "<svg xmlns=\"http://www.w3.org/2000/svg\" height=\"24px\"viewBox=\"0 0 24 24\"\n",
              "     width=\"24px\">\n",
              "    <g>\n",
              "        <path d=\"M19 3H5c-1.1 0-2 .9-2 2v14c0 1.1.9 2 2 2h14c1.1 0 2-.9 2-2V5c0-1.1-.9-2-2-2zM9 17H7v-7h2v7zm4 0h-2V7h2v10zm4 0h-2v-4h2v4z\"/>\n",
              "    </g>\n",
              "</svg>\n",
              "  </button>\n",
              "\n",
              "<style>\n",
              "  .colab-df-quickchart {\n",
              "      --bg-color: #E8F0FE;\n",
              "      --fill-color: #1967D2;\n",
              "      --hover-bg-color: #E2EBFA;\n",
              "      --hover-fill-color: #174EA6;\n",
              "      --disabled-fill-color: #AAA;\n",
              "      --disabled-bg-color: #DDD;\n",
              "  }\n",
              "\n",
              "  [theme=dark] .colab-df-quickchart {\n",
              "      --bg-color: #3B4455;\n",
              "      --fill-color: #D2E3FC;\n",
              "      --hover-bg-color: #434B5C;\n",
              "      --hover-fill-color: #FFFFFF;\n",
              "      --disabled-bg-color: #3B4455;\n",
              "      --disabled-fill-color: #666;\n",
              "  }\n",
              "\n",
              "  .colab-df-quickchart {\n",
              "    background-color: var(--bg-color);\n",
              "    border: none;\n",
              "    border-radius: 50%;\n",
              "    cursor: pointer;\n",
              "    display: none;\n",
              "    fill: var(--fill-color);\n",
              "    height: 32px;\n",
              "    padding: 0;\n",
              "    width: 32px;\n",
              "  }\n",
              "\n",
              "  .colab-df-quickchart:hover {\n",
              "    background-color: var(--hover-bg-color);\n",
              "    box-shadow: 0 1px 2px rgba(60, 64, 67, 0.3), 0 1px 3px 1px rgba(60, 64, 67, 0.15);\n",
              "    fill: var(--button-hover-fill-color);\n",
              "  }\n",
              "\n",
              "  .colab-df-quickchart-complete:disabled,\n",
              "  .colab-df-quickchart-complete:disabled:hover {\n",
              "    background-color: var(--disabled-bg-color);\n",
              "    fill: var(--disabled-fill-color);\n",
              "    box-shadow: none;\n",
              "  }\n",
              "\n",
              "  .colab-df-spinner {\n",
              "    border: 2px solid var(--fill-color);\n",
              "    border-color: transparent;\n",
              "    border-bottom-color: var(--fill-color);\n",
              "    animation:\n",
              "      spin 1s steps(1) infinite;\n",
              "  }\n",
              "\n",
              "  @keyframes spin {\n",
              "    0% {\n",
              "      border-color: transparent;\n",
              "      border-bottom-color: var(--fill-color);\n",
              "      border-left-color: var(--fill-color);\n",
              "    }\n",
              "    20% {\n",
              "      border-color: transparent;\n",
              "      border-left-color: var(--fill-color);\n",
              "      border-top-color: var(--fill-color);\n",
              "    }\n",
              "    30% {\n",
              "      border-color: transparent;\n",
              "      border-left-color: var(--fill-color);\n",
              "      border-top-color: var(--fill-color);\n",
              "      border-right-color: var(--fill-color);\n",
              "    }\n",
              "    40% {\n",
              "      border-color: transparent;\n",
              "      border-right-color: var(--fill-color);\n",
              "      border-top-color: var(--fill-color);\n",
              "    }\n",
              "    60% {\n",
              "      border-color: transparent;\n",
              "      border-right-color: var(--fill-color);\n",
              "    }\n",
              "    80% {\n",
              "      border-color: transparent;\n",
              "      border-right-color: var(--fill-color);\n",
              "      border-bottom-color: var(--fill-color);\n",
              "    }\n",
              "    90% {\n",
              "      border-color: transparent;\n",
              "      border-bottom-color: var(--fill-color);\n",
              "    }\n",
              "  }\n",
              "</style>\n",
              "\n",
              "  <script>\n",
              "    async function quickchart(key) {\n",
              "      const quickchartButtonEl =\n",
              "        document.querySelector('#' + key + ' button');\n",
              "      quickchartButtonEl.disabled = true;  // To prevent multiple clicks.\n",
              "      quickchartButtonEl.classList.add('colab-df-spinner');\n",
              "      try {\n",
              "        const charts = await google.colab.kernel.invokeFunction(\n",
              "            'suggestCharts', [key], {});\n",
              "      } catch (error) {\n",
              "        console.error('Error during call to suggestCharts:', error);\n",
              "      }\n",
              "      quickchartButtonEl.classList.remove('colab-df-spinner');\n",
              "      quickchartButtonEl.classList.add('colab-df-quickchart-complete');\n",
              "    }\n",
              "    (() => {\n",
              "      let quickchartButtonEl =\n",
              "        document.querySelector('#df-fc7e9630-25f4-4b4e-803c-873f30f6d692 button');\n",
              "      quickchartButtonEl.style.display =\n",
              "        google.colab.kernel.accessAllowed ? 'block' : 'none';\n",
              "    })();\n",
              "  </script>\n",
              "</div>\n",
              "\n",
              "    </div>\n",
              "  </div>\n"
            ],
            "text/plain": [
              "           Age  Cholesterol  Heart Rate  Diabetes  Family History   Smoking  \\\n",
              "Sex                                                                           \n",
              "0    53.988873   260.282769   74.873834  0.653412        0.493700  1.000000   \n",
              "1    53.060709   258.942685   75.362368  0.649698        0.491327  0.659125   \n",
              "\n",
              "      Obesity  Alcohol Consumption  Exercise Hours Per Week      Diet  ...  \\\n",
              "Sex                                                                    ...   \n",
              "0    0.502209             0.598756                 9.987705  0.989036  ...   \n",
              "1    0.499623             0.596531                10.075528  0.999246  ...   \n",
              "\n",
              "     Stress Level  Sedentary Hours Per Day         Income        BMI  \\\n",
              "Sex                                                                    \n",
              "0        5.428571                 6.000528  158404.357552  28.878872   \n",
              "1        5.564480                 5.977934  157937.871041  28.920420   \n",
              "\n",
              "     Triglycerides  Physical Activity Days Per Week  Sleep Hours Per Day  \\\n",
              "Sex                                                                        \n",
              "0       418.109311                         3.478154             7.016528   \n",
              "1       416.680995                         3.516214             7.039593   \n",
              "\n",
              "     Heart Attack Risk  Systolic_BP  Diastolic_BP  \n",
              "Sex                                                \n",
              "0             0.359188   134.970872     85.134348  \n",
              "1             0.355958   135.317119     85.206259  \n",
              "\n",
              "[2 rows x 22 columns]"
            ]
          },
          "execution_count": 14,
          "metadata": {},
          "output_type": "execute_result"
        }
      ],
      "source": [
        "df.groupby('Sex').mean()\n",
        "#Male: 0, Female: 1"
      ]
    },
    {
      "cell_type": "code",
      "execution_count": 15,
      "metadata": {
        "colab": {
          "base_uri": "https://localhost:8080/"
        },
        "id": "FR-LraGmGj1H",
        "outputId": "eb499cec-eb3d-4fdf-9741-ad98cb62bae7"
      },
      "outputs": [
        {
          "name": "stdout",
          "output_type": "stream",
          "text": [
            "      Age  Sex  Cholesterol  Heart Rate  Diabetes  Family History  Smoking  \\\n",
            "0      67    0          208          72         0               0        1   \n",
            "1      21    0          389          98         1               1        1   \n",
            "2      21    1          324          72         1               0        0   \n",
            "3      84    0          383          73         1               1        1   \n",
            "4      66    0          318          93         1               1        1   \n",
            "...   ...  ...          ...         ...       ...             ...      ...   \n",
            "8758   60    0          121          61         1               1        1   \n",
            "8759   28    1          120          73         1               0        0   \n",
            "8760   47    0          250         105         0               1        1   \n",
            "8761   36    0          178          60         1               0        1   \n",
            "8762   25    1          356          75         1               1        0   \n",
            "\n",
            "      Obesity  Alcohol Consumption  Exercise Hours Per Week  ...  \\\n",
            "0           0                    0                 4.168189  ...   \n",
            "1           1                    1                 1.813242  ...   \n",
            "2           0                    0                 2.078353  ...   \n",
            "3           0                    1                 9.828130  ...   \n",
            "4           1                    0                 5.804299  ...   \n",
            "...       ...                  ...                      ...  ...   \n",
            "8758        0                    1                 7.917342  ...   \n",
            "8759        1                    0                16.558426  ...   \n",
            "8760        1                    1                 3.148438  ...   \n",
            "8761        0                    0                 3.789950  ...   \n",
            "8762        0                    1                18.081748  ...   \n",
            "\n",
            "      Stress Level  Sedentary Hours Per Day  Income        BMI  Triglycerides  \\\n",
            "0                9                 6.615001  261404  31.251233            286   \n",
            "1                1                 4.963459  285768  27.194973            235   \n",
            "2                9                 9.463426  235282  28.176571            587   \n",
            "3                9                 7.648981  125640  36.464704            378   \n",
            "4                6                 1.514821  160555  21.809144            231   \n",
            "...            ...                      ...     ...        ...            ...   \n",
            "8758             8                10.806373  235420  19.655895             67   \n",
            "8759             8                 3.833038  217881  23.993866            617   \n",
            "8760             5                 2.375214   36998  35.406146            527   \n",
            "8761             5                 0.029104  209943  27.294020            114   \n",
            "8762             8                 9.005234  247338  32.914151            180   \n",
            "\n",
            "      Physical Activity Days Per Week  Sleep Hours Per Day  Heart Attack Risk  \\\n",
            "0                                   0                    6                  0   \n",
            "1                                   1                    7                  0   \n",
            "2                                   4                    4                  0   \n",
            "3                                   3                    4                  0   \n",
            "4                                   1                    5                  0   \n",
            "...                               ...                  ...                ...   \n",
            "8758                                7                    7                  0   \n",
            "8759                                4                    9                  0   \n",
            "8760                                4                    4                  1   \n",
            "8761                                2                    8                  0   \n",
            "8762                                7                    4                  1   \n",
            "\n",
            "      Systolic_BP  Diastolic_BP  \n",
            "0             158            88  \n",
            "1             165            93  \n",
            "2             174            99  \n",
            "3             163           100  \n",
            "4              91            88  \n",
            "...           ...           ...  \n",
            "8758           94            76  \n",
            "8759          157           102  \n",
            "8760          161            75  \n",
            "8761          119            67  \n",
            "8762          138            67  \n",
            "\n",
            "[8763 rows x 23 columns]\n"
          ]
        }
      ],
      "source": [
        "print(df)"
      ]
    },
    {
      "cell_type": "markdown",
      "metadata": {
        "id": "nCe1RDecGa0-"
      },
      "source": [
        "Histograms for numerical features -> To measure frequency\n"
      ]
    },
    {
      "cell_type": "code",
      "execution_count": 16,
      "metadata": {
        "colab": {
          "base_uri": "https://localhost:8080/",
          "height": 988
        },
        "id": "hnLJ_0SuFQpG",
        "outputId": "2755d456-02a1-42b3-9991-86c4b39d2c87"
      },
      "outputs": [
        {
          "data": {
            "text/plain": [
              "<Figure size 640x480 with 0 Axes>"
            ]
          },
          "metadata": {},
          "output_type": "display_data"
        },
        {
          "data": {
            "image/png": "[encoded data removed]",
            "text/plain": [
              "<Figure size 3000x2000 with 16 Axes>"
            ]
          },
          "metadata": {},
          "output_type": "display_data"
        }
      ],
      "source": [
        "numerical_features = ['Age', 'Cholesterol', 'Heart Rate', 'Exercise Hours Per Week',\n",
        "                      'Stress Level', 'Sedentary Hours Per Day', 'Income', 'BMI',\n",
        "                      'Triglycerides', 'Physical Activity Days Per Week', 'Sleep Hours Per Day', 'Systolic_BP', 'Diastolic_BP']\n",
        "\n",
        "# Create histograms for numerical features\n",
        "plt.suptitle('Histograms of Numerical Features', fontsize=16)\n",
        "df[numerical_features].hist(bins=50, figsize=(30, 20))\n",
        "plt.show()\n",
        "\n"
      ]
    },
    {
      "cell_type": "markdown",
      "metadata": {
        "id": "K9fsfZxWH2RU"
      },
      "source": [
        "Box Plots for Numerical Features -> To check for outliers"
      ]
    },
    {
      "cell_type": "code",
      "execution_count": 17,
      "metadata": {
        "colab": {
          "base_uri": "https://localhost:8080/",
          "height": 648
        },
        "id": "D9gFR5qiH-gM",
        "outputId": "a2c5b8f0-f715-472d-e86d-f56b91261240"
      },
      "outputs": [
        {
          "data": {
            "image/png": "[encoded data removed]",
            "text/plain": [
              "<Figure size 2000x900 with 13 Axes>"
            ]
          },
          "metadata": {},
          "output_type": "display_data"
        }
      ],
      "source": [
        "# Create boxplots for numerical features\n",
        "num_cols = len(numerical_features)\n",
        "num_rows = (num_cols + 4) // 5  # To ensure 5 boxplots per row\n",
        "fig, axes = plt.subplots(num_rows, 5, figsize=(20, num_rows * 3))\n",
        "\n",
        "# Remove the extra subplots if the number of features is not divisible by 5\n",
        "if num_cols % 5 != 0:\n",
        "    num_empty_subplots = 5 - (num_cols % 5)\n",
        "    for i in range(num_empty_subplots):\n",
        "        fig.delaxes(axes[num_rows-1, 4-i])\n",
        "\n",
        "for i, feature in enumerate(numerical_features):\n",
        "    row = i // 5\n",
        "    col = i % 5\n",
        "    df.boxplot(column=feature, ax=axes[row, col])\n",
        "    axes[row, col].set_title(f'Boxplot of {feature}', fontsize=8)\n",
        "    axes[row, col].set_ylabel('Values', fontsize=8)\n",
        "    axes[row, col].set_xlabel('Feature', fontsize=8)\n",
        "    axes[row, col].grid(True)\n",
        "\n",
        "plt.tight_layout()\n",
        "plt.show()\n"
      ]
    },
    {
      "cell_type": "markdown",
      "metadata": {
        "id": "GSYjhNaFS3Er"
      },
      "source": [
        "Scatter Plots for Numerical Features -> Visualizing the relationship between every two numerical features"
      ]
    },
    {
      "cell_type": "code",
      "execution_count": null,
      "metadata": {
        "colab": {
          "background_save": true
        },
        "id": "0BnL7Nh1TDXv"
      },
      "outputs": [],
      "source": [
        "sns.pairplot(df[numerical_features], kind='scatter', diag_kind='hist')\n",
        "plt.show()\n"
      ]
    },
    {
      "cell_type": "markdown",
      "metadata": {
        "id": "9787s7JaNVMd"
      },
      "source": [
        "Categorical Features -> Pie Charts"
      ]
    },
    {
      "cell_type": "code",
      "execution_count": null,
      "metadata": {
        "colab": {
          "background_save": true
        },
        "id": "fi_w0ehsNaUM"
      },
      "outputs": [],
      "source": [
        "import math\n",
        "\n",
        "cat_features = ['Sex','Diabetes', 'Family History', 'Smoking', 'Obesity', 'Alcohol Consumption', 'Diet', 'Heart Attack Risk']\n",
        "\n",
        "num_features = len(cat_features)\n",
        "num_cols = 5  # Number of columns in the grid\n",
        "num_rows = math.ceil(num_features / num_cols)  # Calculate number of rows\n",
        "\n",
        "fig, axes = plt.subplots(num_rows, num_cols, figsize=(15, 10))\n",
        "\n",
        "for i, feature in enumerate(cat_features):\n",
        "    row = i // num_cols\n",
        "    col = i % num_cols\n",
        "    if feature == 'Smoking':\n",
        "       df[feature].replace({1: 'Smoker', 0: 'Non-smoker'}).value_counts().plot(kind='pie', autopct='%1.1f%%', startangle=140, ax=axes[row, col])\n",
        "    elif feature == 'Sex':\n",
        "      df[feature].replace({1: 'Female', 0: 'Male'}).value_counts().plot(kind='pie', autopct='%1.1f%%', startangle=140, ax=axes[row, col])\n",
        "    elif feature == 'Diet':\n",
        "      df[feature].replace({2: 'Unhealthy', 1: 'Average', 0: 'Healthy'}).value_counts().plot(kind='pie', autopct='%1.1f%%', startangle=140, ax=axes[row, col])\n",
        "    else: df[feature].replace({1: 'Yes', 0: 'No'}).value_counts().plot(kind='pie', autopct='%1.1f%%', startangle=140, ax=axes[row, col])\n",
        "    axes[row, col].set_title(f'Distribution of {feature}')\n",
        "    axes[row, col].set_ylabel('')\n",
        "\n",
        "# Remove empty subplots\n",
        "for i in range(num_features, num_rows * num_cols):\n",
        "    fig.delaxes(axes.flatten()[i])\n",
        "\n",
        "plt.tight_layout()\n",
        "plt.show()\n"
      ]
    },
    {
      "cell_type": "markdown",
      "metadata": {
        "id": "r3jiyv1QYAtT"
      },
      "source": [
        "Pair Plot for All Features"
      ]
    },
    {
      "cell_type": "code",
      "execution_count": null,
      "metadata": {
        "colab": {
          "background_save": true
        },
        "id": "n_ZCKQulStcR"
      },
      "outputs": [],
      "source": [
        "df.info()"
      ]
    },
    {
      "cell_type": "code",
      "execution_count": null,
      "metadata": {
        "colab": {
          "background_save": true
        },
        "id": "rzWIw_F3gFfA"
      },
      "outputs": [],
      "source": [
        "print(df)"
      ]
    },
    {
      "cell_type": "markdown",
      "metadata": {
        "id": "eHaYvH-XzYHp"
      },
      "source": [
        "**Modelling**"
      ]
    },
    {
      "cell_type": "code",
      "execution_count": null,
      "metadata": {
        "colab": {
          "background_save": true
        },
        "id": "l1sGkD3fzXrG"
      },
      "outputs": [],
      "source": [
        "#splitting the dataset features into X and y variables\n",
        "X = df.drop(columns=['Heart Attack Risk'])  # Features\n",
        "y = df['Heart Attack Risk']  # Target variable"
      ]
    },
    {
      "cell_type": "code",
      "execution_count": null,
      "metadata": {
        "colab": {
          "background_save": true
        },
        "id": "9LGaCNCS2ErS"
      },
      "outputs": [],
      "source": [
        "X.info()\n"
      ]
    },
    {
      "cell_type": "code",
      "execution_count": null,
      "metadata": {
        "colab": {
          "background_save": true
        },
        "id": "-d-LZ8ln2Mjc"
      },
      "outputs": [],
      "source": [
        "y.shape"
      ]
    },
    {
      "cell_type": "markdown",
      "metadata": {
        "id": "3VcE5pNX23CJ"
      },
      "source": [
        "Synthetic Minority Oversampling (SMOTE) -> ending the imbalance in the target feature's values"
      ]
    },
    {
      "cell_type": "code",
      "execution_count": null,
      "metadata": {
        "colab": {
          "background_save": true
        },
        "id": "3-AUW5SC2ZQW"
      },
      "outputs": [],
      "source": [
        "from imblearn.over_sampling import SMOTE"
      ]
    },
    {
      "cell_type": "code",
      "execution_count": null,
      "metadata": {
        "colab": {
          "background_save": true
        },
        "id": "eZIp0Lkn3HUd"
      },
      "outputs": [],
      "source": [
        "os = SMOTE(random_state=0)\n",
        "X_os,y_os=os.fit_resample(X,y)"
      ]
    },
    {
      "cell_type": "code",
      "execution_count": null,
      "metadata": {
        "colab": {
          "background_save": true
        },
        "id": "oYR5s9xf3UlO"
      },
      "outputs": [],
      "source": [
        "X_os.shape"
      ]
    },
    {
      "cell_type": "code",
      "execution_count": null,
      "metadata": {
        "colab": {
          "background_save": true
        },
        "id": "DFQ-C-Se3Y0Y"
      },
      "outputs": [],
      "source": [
        "y_os.shape"
      ]
    },
    {
      "cell_type": "code",
      "execution_count": null,
      "metadata": {
        "colab": {
          "background_save": true
        },
        "id": "XTg2r8hL3atd"
      },
      "outputs": [],
      "source": [
        "y_os.value_counts()"
      ]
    },
    {
      "cell_type": "code",
      "execution_count": null,
      "metadata": {
        "colab": {
          "background_save": true
        },
        "id": "F_3VICv93pp4"
      },
      "outputs": [],
      "source": [
        "#dataframe with oversampled entries\n",
        "df_os=pd.DataFrame(X_os)\n",
        "df_os['Heart Attack Risk'] = y_os"
      ]
    },
    {
      "cell_type": "markdown",
      "metadata": {
        "id": "oXyVb-dR4ruz"
      },
      "source": [
        "Train & Test Split"
      ]
    },
    {
      "cell_type": "code",
      "execution_count": null,
      "metadata": {
        "colab": {
          "background_save": true
        },
        "id": "1bTedkwF4N1h"
      },
      "outputs": [],
      "source": [
        "X_train, X_test, y_train, y_test = train_test_split(X_os, y_os, test_size=0.3, random_state=0)"
      ]
    },
    {
      "cell_type": "markdown",
      "metadata": {
        "id": "f4chGkWG5f7m"
      },
      "source": [
        "Standardizing the data"
      ]
    },
    {
      "cell_type": "code",
      "execution_count": null,
      "metadata": {
        "colab": {
          "background_save": true
        },
        "id": "bngfkI835NJ8"
      },
      "outputs": [],
      "source": [
        "X.describe()"
      ]
    },
    {
      "cell_type": "code",
      "execution_count": null,
      "metadata": {
        "colab": {
          "background_save": true
        },
        "id": "5wRcTRPq50wY"
      },
      "outputs": [],
      "source": [
        "sc_train = StandardScaler().fit(X_train)\n",
        "X_train_sc = sc_train.transform(X_train)"
      ]
    },
    {
      "cell_type": "code",
      "execution_count": null,
      "metadata": {
        "colab": {
          "background_save": true
        },
        "id": "AXwluySd6261"
      },
      "outputs": [],
      "source": [
        "#snapshot of the transformed data\n",
        "np.set_printoptions(precision=3)\n",
        "print(X_train_sc[0:5,:])"
      ]
    },
    {
      "cell_type": "markdown",
      "metadata": {
        "id": "LC3-e3bU7Z50"
      },
      "source": [
        "Training The Model"
      ]
    },
    {
      "cell_type": "code",
      "execution_count": null,
      "metadata": {
        "colab": {
          "background_save": true
        },
        "id": "phzPh6A67T8o"
      },
      "outputs": [],
      "source": [
        "model_lr = LogisticRegression(solver='liblinear')"
      ]
    },
    {
      "cell_type": "code",
      "execution_count": null,
      "metadata": {
        "colab": {
          "background_save": true
        },
        "id": "NWUhwi_F8TMt"
      },
      "outputs": [],
      "source": [
        "model_lr.fit(X_train_sc, y_train)"
      ]
    },
    {
      "cell_type": "code",
      "execution_count": null,
      "metadata": {
        "colab": {
          "background_save": true
        },
        "id": "sCk5-X018dPC"
      },
      "outputs": [],
      "source": [
        "sc_test=StandardScaler().fit(X_test)\n",
        "X_test_sc=sc_test.transform(X_test)"
      ]
    },
    {
      "cell_type": "code",
      "execution_count": null,
      "metadata": {
        "colab": {
          "background_save": true
        },
        "id": "5t5lmJTG84CA"
      },
      "outputs": [],
      "source": [
        "results=model_lr.score(X_test_sc,y_test)\n",
        "results*100"
      ]
    },
    {
      "cell_type": "code",
      "execution_count": null,
      "metadata": {
        "colab": {
          "background_save": true
        },
        "id": "3DFNeEVH9Dog"
      },
      "outputs": [],
      "source": [
        "c=['red','green','yellow','purple','blue','orange','cyan']\n",
        "X.info()\n",
        "X.corrwith(df['Heart Attack Risk']).plot.bar(figsize=(30,10),title='Correlation with target feature',fontsize=15,rot=45,grid=True,color=c)"
      ]
    },
    {
      "cell_type": "code",
      "execution_count": null,
      "metadata": {
        "colab": {
          "background_save": true
        },
        "id": "DP0rAuSC_4fc"
      },
      "outputs": [],
      "source": [
        "print(df)"
      ]
    },
    {
      "cell_type": "markdown",
      "metadata": {
        "id": "AvXQxiLACOAX"
      },
      "source": [
        "MODEL ON SECOND DATAFRAME"
      ]
    },
    {
      "cell_type": "code",
      "execution_count": null,
      "metadata": {
        "colab": {
          "background_save": true
        },
        "id": "Fty3qH38B_wr"
      },
      "outputs": [],
      "source": [
        "df1=df\n",
        "df1.drop_column['Smoking']\n",
        "df1.drop_column['Previous Heart Problems']\n"
      ]
    }
  ],
  "metadata": {
    "colab": {
      "provenance": []
    },
    "kernelspec": {
      "display_name": "Python 3",
      "name": "python3"
    },
    "language_info": {
      "name": "python"
    }
  },
  "nbformat": 4,
  "nbformat_minor": 0
}
